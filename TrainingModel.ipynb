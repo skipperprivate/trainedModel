{
  "nbformat": 4,
  "nbformat_minor": 0,
  "metadata": {
    "colab": {
      "name": "TrainingModel.ipynb",
      "provenance": [],
      "authorship_tag": "ABX9TyPj/mBU0f+zvYW9fr5X4nK4"
    },
    "kernelspec": {
      "name": "python3",
      "display_name": "Python 3"
    }
  },
  "cells": [
    {
      "cell_type": "code",
      "metadata": {
        "id": "CpWjbwewBZLz",
        "colab_type": "code",
        "colab": {
          "base_uri": "https://localhost:8080/",
          "height": 649
        },
        "outputId": "e17741ef-d183-44d2-fb56-aee6fd587c86"
      },
      "source": [
        "pip install tensorflow_text"
      ],
      "execution_count": 2,
      "outputs": [
        {
          "output_type": "stream",
          "text": [
            "Requirement already satisfied: tensorflow_text in /usr/local/lib/python3.6/dist-packages (2.1.1)\n",
            "Requirement already satisfied: tensorflow<2.2,>=2.1.0 in /usr/local/lib/python3.6/dist-packages (from tensorflow_text) (2.1.0)\n",
            "Requirement already satisfied: wrapt>=1.11.1 in /usr/local/lib/python3.6/dist-packages (from tensorflow<2.2,>=2.1.0->tensorflow_text) (1.11.2)\n",
            "Requirement already satisfied: protobuf>=3.8.0 in /usr/local/lib/python3.6/dist-packages (from tensorflow<2.2,>=2.1.0->tensorflow_text) (3.10.0)\n",
            "Requirement already satisfied: absl-py>=0.7.0 in /usr/local/lib/python3.6/dist-packages (from tensorflow<2.2,>=2.1.0->tensorflow_text) (0.9.0)\n",
            "Requirement already satisfied: termcolor>=1.1.0 in /usr/local/lib/python3.6/dist-packages (from tensorflow<2.2,>=2.1.0->tensorflow_text) (1.1.0)\n",
            "Requirement already satisfied: tensorflow-estimator<2.2.0,>=2.1.0rc0 in /usr/local/lib/python3.6/dist-packages (from tensorflow<2.2,>=2.1.0->tensorflow_text) (2.1.0)\n",
            "Requirement already satisfied: numpy<2.0,>=1.16.0 in /usr/local/lib/python3.6/dist-packages (from tensorflow<2.2,>=2.1.0->tensorflow_text) (1.17.5)\n",
            "Requirement already satisfied: grpcio>=1.8.6 in /usr/local/lib/python3.6/dist-packages (from tensorflow<2.2,>=2.1.0->tensorflow_text) (1.27.1)\n",
            "Requirement already satisfied: opt-einsum>=2.3.2 in /usr/local/lib/python3.6/dist-packages (from tensorflow<2.2,>=2.1.0->tensorflow_text) (3.1.0)\n",
            "Requirement already satisfied: keras-applications>=1.0.8 in /usr/local/lib/python3.6/dist-packages (from tensorflow<2.2,>=2.1.0->tensorflow_text) (1.0.8)\n",
            "Requirement already satisfied: six>=1.12.0 in /usr/local/lib/python3.6/dist-packages (from tensorflow<2.2,>=2.1.0->tensorflow_text) (1.12.0)\n",
            "Requirement already satisfied: keras-preprocessing>=1.1.0 in /usr/local/lib/python3.6/dist-packages (from tensorflow<2.2,>=2.1.0->tensorflow_text) (1.1.0)\n",
            "Requirement already satisfied: wheel>=0.26; python_version >= \"3\" in /usr/local/lib/python3.6/dist-packages (from tensorflow<2.2,>=2.1.0->tensorflow_text) (0.34.2)\n",
            "Requirement already satisfied: gast==0.2.2 in /usr/local/lib/python3.6/dist-packages (from tensorflow<2.2,>=2.1.0->tensorflow_text) (0.2.2)\n",
            "Requirement already satisfied: scipy==1.4.1; python_version >= \"3\" in /usr/local/lib/python3.6/dist-packages (from tensorflow<2.2,>=2.1.0->tensorflow_text) (1.4.1)\n",
            "Requirement already satisfied: astor>=0.6.0 in /usr/local/lib/python3.6/dist-packages (from tensorflow<2.2,>=2.1.0->tensorflow_text) (0.8.1)\n",
            "Requirement already satisfied: google-pasta>=0.1.6 in /usr/local/lib/python3.6/dist-packages (from tensorflow<2.2,>=2.1.0->tensorflow_text) (0.1.8)\n",
            "Requirement already satisfied: tensorboard<2.2.0,>=2.1.0 in /usr/local/lib/python3.6/dist-packages (from tensorflow<2.2,>=2.1.0->tensorflow_text) (2.1.0)\n",
            "Requirement already satisfied: setuptools in /usr/local/lib/python3.6/dist-packages (from protobuf>=3.8.0->tensorflow<2.2,>=2.1.0->tensorflow_text) (45.1.0)\n",
            "Requirement already satisfied: h5py in /usr/local/lib/python3.6/dist-packages (from keras-applications>=1.0.8->tensorflow<2.2,>=2.1.0->tensorflow_text) (2.8.0)\n",
            "Requirement already satisfied: google-auth-oauthlib<0.5,>=0.4.1 in /usr/local/lib/python3.6/dist-packages (from tensorboard<2.2.0,>=2.1.0->tensorflow<2.2,>=2.1.0->tensorflow_text) (0.4.1)\n",
            "Requirement already satisfied: requests<3,>=2.21.0 in /usr/local/lib/python3.6/dist-packages (from tensorboard<2.2.0,>=2.1.0->tensorflow<2.2,>=2.1.0->tensorflow_text) (2.21.0)\n",
            "Requirement already satisfied: google-auth<2,>=1.6.3 in /usr/local/lib/python3.6/dist-packages (from tensorboard<2.2.0,>=2.1.0->tensorflow<2.2,>=2.1.0->tensorflow_text) (1.7.2)\n",
            "Requirement already satisfied: werkzeug>=0.11.15 in /usr/local/lib/python3.6/dist-packages (from tensorboard<2.2.0,>=2.1.0->tensorflow<2.2,>=2.1.0->tensorflow_text) (1.0.0)\n",
            "Requirement already satisfied: markdown>=2.6.8 in /usr/local/lib/python3.6/dist-packages (from tensorboard<2.2.0,>=2.1.0->tensorflow<2.2,>=2.1.0->tensorflow_text) (3.2.1)\n",
            "Requirement already satisfied: requests-oauthlib>=0.7.0 in /usr/local/lib/python3.6/dist-packages (from google-auth-oauthlib<0.5,>=0.4.1->tensorboard<2.2.0,>=2.1.0->tensorflow<2.2,>=2.1.0->tensorflow_text) (1.3.0)\n",
            "Requirement already satisfied: chardet<3.1.0,>=3.0.2 in /usr/local/lib/python3.6/dist-packages (from requests<3,>=2.21.0->tensorboard<2.2.0,>=2.1.0->tensorflow<2.2,>=2.1.0->tensorflow_text) (3.0.4)\n",
            "Requirement already satisfied: idna<2.9,>=2.5 in /usr/local/lib/python3.6/dist-packages (from requests<3,>=2.21.0->tensorboard<2.2.0,>=2.1.0->tensorflow<2.2,>=2.1.0->tensorflow_text) (2.8)\n",
            "Requirement already satisfied: certifi>=2017.4.17 in /usr/local/lib/python3.6/dist-packages (from requests<3,>=2.21.0->tensorboard<2.2.0,>=2.1.0->tensorflow<2.2,>=2.1.0->tensorflow_text) (2019.11.28)\n",
            "Requirement already satisfied: urllib3<1.25,>=1.21.1 in /usr/local/lib/python3.6/dist-packages (from requests<3,>=2.21.0->tensorboard<2.2.0,>=2.1.0->tensorflow<2.2,>=2.1.0->tensorflow_text) (1.24.3)\n",
            "Requirement already satisfied: pyasn1-modules>=0.2.1 in /usr/local/lib/python3.6/dist-packages (from google-auth<2,>=1.6.3->tensorboard<2.2.0,>=2.1.0->tensorflow<2.2,>=2.1.0->tensorflow_text) (0.2.8)\n",
            "Requirement already satisfied: cachetools<3.2,>=2.0.0 in /usr/local/lib/python3.6/dist-packages (from google-auth<2,>=1.6.3->tensorboard<2.2.0,>=2.1.0->tensorflow<2.2,>=2.1.0->tensorflow_text) (3.1.1)\n",
            "Requirement already satisfied: rsa<4.1,>=3.1.4 in /usr/local/lib/python3.6/dist-packages (from google-auth<2,>=1.6.3->tensorboard<2.2.0,>=2.1.0->tensorflow<2.2,>=2.1.0->tensorflow_text) (4.0)\n",
            "Requirement already satisfied: oauthlib>=3.0.0 in /usr/local/lib/python3.6/dist-packages (from requests-oauthlib>=0.7.0->google-auth-oauthlib<0.5,>=0.4.1->tensorboard<2.2.0,>=2.1.0->tensorflow<2.2,>=2.1.0->tensorflow_text) (3.1.0)\n",
            "Requirement already satisfied: pyasn1<0.5.0,>=0.4.6 in /usr/local/lib/python3.6/dist-packages (from pyasn1-modules>=0.2.1->google-auth<2,>=1.6.3->tensorboard<2.2.0,>=2.1.0->tensorflow<2.2,>=2.1.0->tensorflow_text) (0.4.8)\n"
          ],
          "name": "stdout"
        }
      ]
    },
    {
      "cell_type": "code",
      "metadata": {
        "id": "jJaSH0woBeZP",
        "colab_type": "code",
        "colab": {}
      },
      "source": [
        "import pandas as pd\n",
        "import numpy as np\n",
        "import random\n",
        "from sklearn.model_selection import train_test_split\n",
        "from tqdm import tqdm\n",
        "import tensorflow as tf\n",
        "import tensorflow_hub as hub\n",
        "import tensorflow_text\n",
        "import re"
      ],
      "execution_count": 0,
      "outputs": []
    },
    {
      "cell_type": "code",
      "metadata": {
        "id": "76hHuABNBl4V",
        "colab_type": "code",
        "colab": {}
      },
      "source": [
        "embed = hub.load(\"https://tfhub.dev/google/universal-sentence-encoder-multilingual-large/3\")"
      ],
      "execution_count": 0,
      "outputs": []
    },
    {
      "cell_type": "code",
      "metadata": {
        "id": "MDnSyVqAB6_r",
        "colab_type": "code",
        "colab": {
          "base_uri": "https://localhost:8080/",
          "height": 884
        },
        "outputId": "712a21f2-00b9-4c69-9d45-2da06dc70233"
      },
      "source": [
        "df1 = pd.read_csv('TestFile1.csv', sep=';')\n",
        "\n",
        "df1[\"review\"] = df1[\"Review\"]\n",
        "df1[\"type\"] = df1[\"review_type\"]\n",
        "\n",
        "df = df1[[\"review\", \"type\"]]\n",
        "print(df)\n",
        "\n",
        "good_reviews = df[df.type == \"good\"]\n",
        "bad_reviews = df[df.type == \"bad\"]\n",
        "\n",
        "good_reviews_text = \" \".join(good_reviews.review.to_numpy().tolist())\n",
        "bad_reviews_text = \" \".join(bad_reviews.review.to_numpy().tolist())\n",
        "\n",
        "good_df = good_reviews.sample(n=len(bad_reviews), random_state=random.seed())\n",
        "bad_df = bad_reviews\n",
        "review_df = good_df.append(bad_df).reset_index(drop=True)\n",
        "print(review_df.review)"
      ],
      "execution_count": 7,
      "outputs": [
        {
          "output_type": "stream",
          "text": [
            "                                               review  type\n",
            "0   да все таки он немного похож на него но мой ма...  good\n",
            "1               rt ну ты идиотка я испугалась за тебя  good\n",
            "2   rt кто то в углу сидит и погибает от голода а ...  good\n",
            "3   вот что значит страшилка d но блин посмотрев в...  good\n",
            "4            ну любишь или нет я не знаю кто ты бля d  good\n",
            "5   rt ох 9 d ну это конечно же чтобы у нее было м...  good\n",
            "6   rt у тебя есть ухажер нет мои уши не кто не жр...  good\n",
            "7                поприветствуем моего нового читателя  good\n",
            "8   теперь у меня есть частичка сиднея sydney sydn...  good\n",
            "9   люблю маму и папу а в остальное я так влюбляюс...  good\n",
            "10  rt как то я забыла что вчера приехал из деревн...  good\n",
            "11                               так было задумано да  good\n",
            "12                        дааааа ты ты ты и только ты  good\n",
            "13  о нет вы ведь все равно обзоры урезаете просто...  good\n",
            "14  смотри там случайно в аспирантуру не попади на...  good\n",
            "15  rt эхх а в угату о контрольных предупреждают у...  good\n",
            "16          а а то подумала что у тебя там пробежечка  good\n",
            "17  зря вы с этой хуйней шутите я много историй на...  good\n",
            "18  очень главное спасибо for медвед он работал кл...  good\n",
            "19  у нас есть прекрасная история как сдохнуть за ...  good\n",
            "20  сегодня столько поводов выпить что я уже не мо...  good\n",
            "21      унылый наверное вдруг его перед этим чпокнули  good\n",
            "22  rt 1 при поддержке администрации мо белевский ...  good\n",
            "23               поприветствуем моего нового читателя  good\n",
            "24  как же хооорошо валяться но мой бедный обколот...  good\n",
            "25  хоть у кого то заебись все настюх рада за тебя...  good\n",
            "26  да почему мне похуй то новерное потому что еще...  good\n",
            "27  блин хочется писать и писать всякую хуйню пишу...   Not\n",
            "28                а мне хотя бы расскажите что по чем  good\n",
            "29                                        rt для тебя  good\n",
            "30  я по первому не смотрю поэтому качаю в инете н...  good\n",
            "31  предвкушение потрясающего уикенда праздник све...  good\n",
            "32  я рааааааад ведь сегодня впереди вся ночь сери...   Not\n",
            "33                        списком надо всем гамузом d  good\n",
            "34      rt rt электрогенератор изсостоек и не победим  good\n",
            "35                  у меня нет фоток позже тогда кину  good\n",
            "36  второй день подряд мне снятся сны с ромой я со...  good\n",
            "37  rt слушай коть можно я этим боком встану так л...  good\n",
            "38  rt почти в каждых пиратах рт неимоверно радует...   Not\n",
            "39  оля ты очень добрая на самом деле а ты сучка з...  good\n",
            "40  не иду завтра в школу первый раз мама так наст...  good\n",
            "41  как же мне нравятся мужчины в строгих костюмах...  good\n",
            "42  так это пушистая скотина тоже дрыхнет круглые ...   Bad\n",
            "43  ахаха да нормээ с моим врачем мне ничего не ст...  good\n",
            "44  встречайте мои супер одногруппницы будущие ист...  good\n",
            "45  все я вас покидаю результаты гляну вечером биа...  good\n",
            "46       rt дыы но кто сказал что я все поняла ааххах  good\n",
            "47        почти приехали в родное селенье москва рига  good\n",
            "48  на уй ваши канары и мальдивы тут новая тема пр...   Bad\n",
            "Series([], Name: review, dtype: object)\n"
          ],
          "name": "stdout"
        }
      ]
    }
  ]
}